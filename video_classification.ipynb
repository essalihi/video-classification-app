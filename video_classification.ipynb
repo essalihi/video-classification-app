{
 "cells": [
  {
   "cell_type": "code",
   "execution_count": 4,
   "metadata": {
    "id": "B2_sp1mteKtf"
   },
   "outputs": [],
   "source": [
    "from keras.layers import TimeDistributed, Conv2D, Dense, MaxPooling2D, Flatten, LSTM, Dropout, BatchNormalization\n",
    "from keras import models\n",
    "from sklearn.model_selection import train_test_split\n",
    "from tensorflow.keras.utils import to_categorical \n",
    "from tensorflow.keras.models import Sequential\n",
    "from tensorflow.keras.layers import TimeDistributed, Conv2D, MaxPooling2D, BatchNormalization, Dropout, Dense,Flatten, LSTM\n",
    "import keras\n",
    "from tensorflow.keras.callbacks import EarlyStopping\n",
    "import pickle\n",
    "from keras.models import load_model\n",
    "import matplotlib.pyplot as plt\n",
    "import numpy as np # linear algebra\n",
    "import pandas as pd\n",
    "from PIL import Image\n",
    "import os\n",
    "import cv2\n",
    "import os\n",
    "import math"
   ]
  },
  {
   "cell_type": "code",
   "execution_count": null,
   "metadata": {
    "id": "vtZfMWGqekcY"
   },
   "outputs": [],
   "source": [
    "def data_load_function_10frames(directory):\n",
    "\tcount = 0\n",
    "\tframes=[]\n",
    "\tlabels = []\n",
    "\tdirs = os.listdir(directory)\n",
    "\tfor d in dirs :\n",
    "\t\tcount = 0\n",
    "\t\tsub_dirs = os.listdir(os.path.join(directory,d))\n",
    "\t\tfor sd in sub_dirs:\n",
    "\t\t\t\tfiles = os.listdir(os.path.join(directory,d, sd))\n",
    "\t\t\t\tfor file in files :\n",
    "\t\t\t\t\tcount += 1\n",
    "\t\t\t\t\tvid_name=file\n",
    "\t\t\t\t\tvid_dir_path=os.path.join(directory,d, sd) # to change\n",
    "\t\t\t\t\tframes_to_select=[]\n",
    "\t\t\t\t\tfor l in np.arange(0,8):\n",
    "\t\t\t\t\t\t\tframes_to_select.append('frame%d.jpg' % l)\n",
    "\t\t\t\t\tvid_data=[]\n",
    "\t\t\t\t\tfor frame in frames_to_select:\n",
    "\t\t\t\t\t\t\ttry :\n",
    "\t\t\t\t\t\t\t\t\timage=Image.open(os.path.join(vid_dir_path,frame))\n",
    "\t\t\t\t\t\t\t\t\timage=image.resize((64, 64), Image.ANTIALIAS) \n",
    "\t\t\t\t\t\t\t\t\tdatu=np.asarray(image)\n",
    "\t\t\t\t\t\t\t\t\tnormu_dat=datu/255\n",
    "\t\t\t\t\t\t\t\t\tvid_data.append(normu_dat)\n",
    "\t\t\t\t\t\t\texcept :\n",
    "\t\t\t\t\t\t\t\t\tvid_data.append(np.zeros_like(normu_dat)) # it is like padding as not all videos conatin 300 frames\n",
    "\t\t\t\t\tvid_data=np.array(vid_data)\n",
    "\t\t\t\t\tframes.append(vid_data)\n",
    "\t\tlabels.extend([d]*count)\n",
    "\treturn np.array(frames), np.array(labels)"
   ]
  },
  {
   "cell_type": "code",
   "execution_count": null,
   "metadata": {
    "id": "QCWD_VP3ij_8"
   },
   "outputs": [],
   "source": [
    "directory = '/content/drive/MyDrive/UCF50'\n",
    "frames, labels = data_load_function_10frames(directory)"
   ]
  },
  {
   "cell_type": "code",
   "execution_count": null,
   "metadata": {
    "colab": {
     "base_uri": "https://localhost:8080/"
    },
    "id": "CLVDmSOBrzTM",
    "outputId": "4d196cb5-c9de-45cc-8764-1453efb8f8c7"
   },
   "outputs": [
    {
     "data": {
      "text/plain": [
       "3816"
      ]
     },
     "execution_count": 9,
     "metadata": {},
     "output_type": "execute_result"
    }
   ],
   "source": [
    "len(frames)"
   ]
  },
  {
   "cell_type": "code",
   "execution_count": null,
   "metadata": {
    "id": "U0YrXP0-m4qR"
   },
   "outputs": [],
   "source": [
    "# Reshaping tensors to confirm with the model we are going to train:\n",
    "train_df = frames.reshape((3816, 8, 64, 64,1)) "
   ]
  },
  {
   "cell_type": "code",
   "execution_count": null,
   "metadata": {
    "colab": {
     "base_uri": "https://localhost:8080/"
    },
    "id": "Qn99diFMzHid",
    "outputId": "dd71c42a-ca96-4bda-e4cb-fba9093cd322"
   },
   "outputs": [
    {
     "data": {
      "text/plain": [
       "array(['YoYo', 'YoYo', 'YoYo', ..., 'GolfSwing', 'GolfSwing', 'GolfSwing'],\n",
       "      dtype='<U10')"
      ]
     },
     "execution_count": 12,
     "metadata": {},
     "output_type": "execute_result"
    }
   ],
   "source": [
    "labels"
   ]
  },
  {
   "cell_type": "code",
   "execution_count": 32,
   "metadata": {
    "id": "wtnBLWjyJAJd"
   },
   "outputs": [],
   "source": [
    "#labels\n",
    "indx = {'Basketball':0, 'Biking':1, 'GolfSwing':2, 'YoYo':3}"
   ]
  },
  {
   "cell_type": "code",
   "execution_count": null,
   "metadata": {
    "id": "Axoo18Zswnou"
   },
   "outputs": [],
   "source": [
    "labels_ = []\n",
    "for elt in labels :\n",
    "  labels_.append(indx[elt])\n",
    "labels = np.array(labels_)"
   ]
  },
  {
   "cell_type": "code",
   "execution_count": null,
   "metadata": {
    "id": "F4n-Q7Znm7N9"
   },
   "outputs": [],
   "source": [
    "# Using Keras's to_categorical method to convert labels into one-hot-encoded vectors\n",
    "encoded_labels = to_categorical(labels)"
   ]
  },
  {
   "cell_type": "code",
   "execution_count": null,
   "metadata": {
    "id": "ECyUF1u-oO0V"
   },
   "outputs": [],
   "source": [
    "x_train, x_test, y_train, y_test = train_test_split(train_df, encoded_labels, test_size = 0.2, shuffle = True, random_state = 0)"
   ]
  },
  {
   "cell_type": "code",
   "execution_count": null,
   "metadata": {
    "colab": {
     "base_uri": "https://localhost:8080/"
    },
    "id": "9qQYgh0leP3h",
    "outputId": "a10544ad-9083-421e-d874-a2f0ebd082e5"
   },
   "outputs": [
    {
     "name": "stdout",
     "output_type": "stream",
     "text": [
      "Model: \"sequential\"\n",
      "_________________________________________________________________\n",
      " Layer (type)                Output Shape              Param #   \n",
      "=================================================================\n",
      " time_distributed (TimeDistr  (None, 8, 62, 62, 128)   1280      \n",
      " ibuted)                                                         \n",
      "                                                                 \n",
      " time_distributed_1 (TimeDis  (None, 8, 60, 60, 64)    73792     \n",
      " tributed)                                                       \n",
      "                                                                 \n",
      " time_distributed_2 (TimeDis  (None, 8, 30, 30, 64)    0         \n",
      " tributed)                                                       \n",
      "                                                                 \n",
      " time_distributed_3 (TimeDis  (None, 8, 28, 28, 64)    36928     \n",
      " tributed)                                                       \n",
      "                                                                 \n",
      " time_distributed_4 (TimeDis  (None, 8, 26, 26, 32)    18464     \n",
      " tributed)                                                       \n",
      "                                                                 \n",
      " time_distributed_5 (TimeDis  (None, 8, 13, 13, 32)    0         \n",
      " tributed)                                                       \n",
      "                                                                 \n",
      " time_distributed_6 (TimeDis  (None, 8, 13, 13, 32)    128       \n",
      " tributed)                                                       \n",
      "                                                                 \n",
      " time_distributed_7 (TimeDis  (None, 8, 5408)          0         \n",
      " tributed)                                                       \n",
      "                                                                 \n",
      " dropout (Dropout)           (None, 8, 5408)           0         \n",
      "                                                                 \n",
      " lstm (LSTM)                 (None, 32)                696448    \n",
      "                                                                 \n",
      " dense (Dense)               (None, 64)                2112      \n",
      "                                                                 \n",
      " dense_1 (Dense)             (None, 32)                2080      \n",
      "                                                                 \n",
      " dropout_1 (Dropout)         (None, 32)                0         \n",
      "                                                                 \n",
      " dense_2 (Dense)             (None, 4)                 132       \n",
      "                                                                 \n",
      "=================================================================\n",
      "Total params: 831,364\n",
      "Trainable params: 831,300\n",
      "Non-trainable params: 64\n",
      "_________________________________________________________________\n"
     ]
    }
   ],
   "source": [
    "model_cnlst = Sequential()\n",
    "model_cnlst.add(TimeDistributed(Conv2D(128, (3, 3), strides=(1,1),activation='relu'),input_shape=(8, 64, 64,1)))\n",
    "model_cnlst.add(TimeDistributed(Conv2D(64, (3, 3), strides=(1,1),activation='relu')))\n",
    "model_cnlst.add(TimeDistributed(MaxPooling2D(2,2)))\n",
    "model_cnlst.add(TimeDistributed(Conv2D(64, (3, 3), strides=(1,1),activation='relu')))\n",
    "model_cnlst.add(TimeDistributed(Conv2D(32, (3, 3), strides=(1,1),activation='relu')))\n",
    "model_cnlst.add(TimeDistributed(MaxPooling2D(2,2)))\n",
    "model_cnlst.add(TimeDistributed(BatchNormalization()))\n",
    "\n",
    "\n",
    "model_cnlst.add(TimeDistributed(Flatten()))\n",
    "model_cnlst.add(Dropout(0.2))\n",
    "\n",
    "model_cnlst.add(LSTM(32,return_sequences=False,dropout=0.2)) # used 32 units\n",
    "\n",
    "model_cnlst.add(Dense(64,activation='relu'))\n",
    "model_cnlst.add(Dense(32,activation='relu'))\n",
    "model_cnlst.add(Dropout(0.2))\n",
    "model_cnlst.add(Dense(4, activation='sigmoid'))\n",
    "model_cnlst.summary()"
   ]
  },
  {
   "cell_type": "code",
   "execution_count": null,
   "metadata": {
    "colab": {
     "base_uri": "https://localhost:8080/"
    },
    "id": "EX1QViER02my",
    "outputId": "d5c1f868-fcd7-4db0-9ca0-54c1b60c8ba1"
   },
   "outputs": [
    {
     "data": {
      "text/plain": [
       "(3052, 4)"
      ]
     },
     "execution_count": 19,
     "metadata": {},
     "output_type": "execute_result"
    }
   ],
   "source": [
    "y_train.shape"
   ]
  },
  {
   "cell_type": "code",
   "execution_count": null,
   "metadata": {
    "colab": {
     "base_uri": "https://localhost:8080/"
    },
    "id": "I3oOsRrWndKb",
    "outputId": "254187a9-c5b7-4385-c2cf-d37a4136d0de"
   },
   "outputs": [
    {
     "name": "stdout",
     "output_type": "stream",
     "text": [
      "Epoch 1/20\n",
      "306/306 [==============================] - 37s 65ms/step - loss: 0.3772 - acc: 0.6412 - val_loss: 0.3113 - val_acc: 0.6623\n",
      "Epoch 2/20\n",
      "306/306 [==============================] - 18s 60ms/step - loss: 0.2538 - acc: 0.7690 - val_loss: 0.6375 - val_acc: 0.5013\n",
      "Epoch 3/20\n",
      "306/306 [==============================] - 18s 60ms/step - loss: 0.2040 - acc: 0.8218 - val_loss: 0.1694 - val_acc: 0.8599\n",
      "Epoch 4/20\n",
      "306/306 [==============================] - 18s 60ms/step - loss: 0.1722 - acc: 0.8529 - val_loss: 0.1819 - val_acc: 0.8521\n",
      "Epoch 5/20\n",
      "306/306 [==============================] - 19s 61ms/step - loss: 0.1292 - acc: 0.8994 - val_loss: 0.1095 - val_acc: 0.9241\n",
      "Epoch 6/20\n",
      "306/306 [==============================] - 20s 65ms/step - loss: 0.0937 - acc: 0.9335 - val_loss: 0.1258 - val_acc: 0.9254\n",
      "Epoch 7/20\n",
      "306/306 [==============================] - 19s 61ms/step - loss: 0.0668 - acc: 0.9531 - val_loss: 0.1212 - val_acc: 0.9162\n",
      "Epoch 8/20\n",
      "306/306 [==============================] - 19s 61ms/step - loss: 0.0538 - acc: 0.9610 - val_loss: 0.0347 - val_acc: 0.9804\n",
      "Epoch 9/20\n",
      "306/306 [==============================] - 18s 60ms/step - loss: 0.0578 - acc: 0.9607 - val_loss: 0.0574 - val_acc: 0.9568\n",
      "Epoch 10/20\n",
      "306/306 [==============================] - 19s 61ms/step - loss: 0.0406 - acc: 0.9735 - val_loss: 0.0378 - val_acc: 0.9764\n",
      "Epoch 11/20\n",
      "306/306 [==============================] - 19s 61ms/step - loss: 0.0362 - acc: 0.9794 - val_loss: 0.0329 - val_acc: 0.9817\n",
      "Epoch 12/20\n",
      "306/306 [==============================] - 19s 61ms/step - loss: 0.0233 - acc: 0.9879 - val_loss: 0.0283 - val_acc: 0.9764\n",
      "Epoch 13/20\n",
      "306/306 [==============================] - 19s 61ms/step - loss: 0.0264 - acc: 0.9830 - val_loss: 0.0791 - val_acc: 0.9411\n",
      "Epoch 14/20\n",
      "306/306 [==============================] - 19s 61ms/step - loss: 0.0235 - acc: 0.9846 - val_loss: 0.0430 - val_acc: 0.9712\n",
      "Epoch 15/20\n",
      "306/306 [==============================] - 19s 60ms/step - loss: 0.0205 - acc: 0.9859 - val_loss: 0.0403 - val_acc: 0.9712\n",
      "Epoch 16/20\n",
      "306/306 [==============================] - 19s 61ms/step - loss: 0.0122 - acc: 0.9921 - val_loss: 0.0231 - val_acc: 0.9921\n",
      "Epoch 17/20\n",
      "306/306 [==============================] - 19s 61ms/step - loss: 0.0183 - acc: 0.9875 - val_loss: 0.1643 - val_acc: 0.8992\n",
      "Epoch 18/20\n",
      "306/306 [==============================] - 19s 61ms/step - loss: 0.0198 - acc: 0.9875 - val_loss: 0.0131 - val_acc: 0.9869\n",
      "Epoch 19/20\n",
      "306/306 [==============================] - 19s 62ms/step - loss: 0.0102 - acc: 0.9931 - val_loss: 0.0032 - val_acc: 0.9974\n",
      "Epoch 20/20\n",
      "306/306 [==============================] - 19s 61ms/step - loss: 0.0060 - acc: 0.9974 - val_loss: 0.0017 - val_acc: 1.0000\n"
     ]
    }
   ],
   "source": [
    "from keras import optimizers\n",
    "# Adding Early Stopping Callback\n",
    "early_stopping_callback = EarlyStopping(monitor = 'val_loss', patience = 15, mode = 'min', restore_best_weights = True)\n",
    "\n",
    "#optimizer_new=optimizers.RMSprop(lr=0.01)\n",
    "model_cnlst.compile(optimizer='adam',loss='binary_crossentropy',metrics=['acc'])\n",
    "# Training:\n",
    "history_new_cnlst=model_cnlst.fit(x_train,y_train,batch_size=10,epochs=20,\n",
    "                        validation_data=(x_test,y_test),\n",
    "                       callbacks=early_stopping_callback)"
   ]
  },
  {
   "cell_type": "code",
   "execution_count": null,
   "metadata": {
    "colab": {
     "base_uri": "https://localhost:8080/",
     "height": 279
    },
    "id": "KERcd1rV0Vxm",
    "outputId": "592a88bd-92a7-4186-8be3-3bfc04fda361"
   },
   "outputs": [
    {
     "data": {
      "image/png": "[encoded data removed]",
      "text/plain": [
       "<Figure size 432x288 with 1 Axes>"
      ]
     },
     "metadata": {
      "needs_background": "light"
     },
     "output_type": "display_data"
    }
   ],
   "source": [
    "# visualize the models loss\n",
    "plt.plot(history_new_cnlst.history['loss'])\n",
    "plt.plot(history_new_cnlst.history['val_loss'])\n",
    "plt.ylabel('loss')\n",
    "plt.xlabel('epoch')\n",
    "plt.legend(['train', 'val'], loc = 'upper right')\n",
    "plt.show()"
   ]
  },
  {
   "cell_type": "code",
   "execution_count": null,
   "metadata": {
    "id": "yg8EtAt4KMOz"
   },
   "outputs": [],
   "source": [
    "# Saving your Model\n",
    "model_cnlst.save('VidClass.h5')"
   ]
  },
  {
   "cell_type": "code",
   "execution_count": 2,
   "metadata": {
    "id": "r1nc3V3hGiF-"
   },
   "outputs": [],
   "source": [
    "model = load_model('/content/drive/MyDrive/VidClass.h5')"
   ]
  },
  {
   "cell_type": "code",
   "execution_count": 51,
   "metadata": {
    "id": "GPPk9ssEKryv"
   },
   "outputs": [],
   "source": [
    "def predict_on_video(video_read_path) :\n",
    "    cap=cv2.VideoCapture(video_read_path)\n",
    "    cap.set(cv2.CAP_PROP_FPS, 1)\n",
    "    frameRate=cap.get(5)\n",
    "    x=1\n",
    "    count=0\n",
    "    vid_data = []\n",
    "    while(cap.isOpened()) :\n",
    "        frameId = cap.get(1) #current frame number\n",
    "        ret, frame = cap.read()\n",
    "        if (ret != True):\n",
    "            break\n",
    "        if (frameId % math.floor(frameRate) == 0):\n",
    "            frame_grey=cv2.cvtColor(frame, cv2.COLOR_BGR2GRAY)\n",
    "            cv2.imwrite('./frame.jpg', frame_grey)\n",
    "            image=Image.open('./frame.jpg')\n",
    "            image=image.resize((64, 64), Image.ANTIALIAS) \n",
    "            datu=np.asarray(image)\n",
    "            normu_dat=datu/255\n",
    "            vid_data.append(normu_dat)\n",
    "            count += 1\n",
    "    cap.release()\n",
    "    if count < 8 :\n",
    "      marge = 8 - count \n",
    "      for i in range(marge) :\n",
    "        vid_data.append(np.zeros_like(normu_dat))\n",
    "    elif count > 8 :\n",
    "      vid_data = vid_data[:8]\n",
    "    pred = model.predict(np.expand_dims(vid_data, axis = 0))[0]\n",
    "    pred = np.argmax(pred)\n",
    "    label = list(indx.keys())[pred]\n",
    "    return np.array(vid_data), label"
   ]
  },
  {
   "cell_type": "code",
   "execution_count": 52,
   "metadata": {
    "id": "PWTpp97oOPif"
   },
   "outputs": [],
   "source": [
    "data, pred = predict_on_video(\"/content/$RCBZB06.avi\")\n",
    "pred"
   ]
  }
 ],
 "metadata": {
  "accelerator": "GPU",
  "colab": {
   "collapsed_sections": [],
   "name": "VidClass.ipynb",
   "provenance": []
  },
  "kernelspec": {
   "display_name": "Python 3 (ipykernel)",
   "language": "python",
   "name": "python3"
  },
  "language_info": {
   "codemirror_mode": {
    "name": "ipython",
    "version": 3
   },
   "file_extension": ".py",
   "mimetype": "text/x-python",
   "name": "python",
   "nbconvert_exporter": "python",
   "pygments_lexer": "ipython3",
   "version": "3.8.8"
  }
 },
 "nbformat": 4,
 "nbformat_minor": 1
}
