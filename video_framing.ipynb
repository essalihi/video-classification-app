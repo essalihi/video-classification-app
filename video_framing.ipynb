{
 "cells": [
  {
   "cell_type": "code",
   "execution_count": 1,
   "id": "bca3475e",
   "metadata": {},
   "outputs": [],
   "source": [
    "import cv2\n",
    "import os\n",
    "import math\n",
    "import numpy as np \n",
    "import pandas as pd\n",
    "from PIL import Image"
   ]
  },
  {
   "cell_type": "code",
   "execution_count": 3,
   "id": "6e02220d",
   "metadata": {
    "scrolled": true
   },
   "outputs": [
    {
     "name": "stdout",
     "output_type": "stream",
     "text": [
      "All frames written in the: Train_Videos Folder\n"
     ]
    }
   ],
   "source": [
    "def video_capturing_function(folder_name):\n",
    "    dirs = os.listdir('UCF50')\n",
    "    for d in dirs :\n",
    "        files = os.listdir(f'UCF50/{d}')\n",
    "        for file in files:\n",
    "            video_name=file\n",
    "            video_read_path=os.path.join(f'UCF50/{d}',video_name)\n",
    "            cap=cv2.VideoCapture(video_read_path)\n",
    "            try:          \n",
    "                os.mkdir(os.path.join(f'UCF50/{d}',\n",
    "                                      video_name.split(\".\")[0]))\n",
    "            except:\n",
    "                print(\"File Already Created\")\n",
    "\n",
    "            train_write_file=os.path.join(os.path.join('UCF50',d),\n",
    "                                      video_name.split(\".\")[0])\n",
    "            cap.set(cv2.CAP_PROP_FPS, 1)\n",
    "            frameRate=cap.get(5)\n",
    "            x=1\n",
    "            count=0\n",
    "            while(cap.isOpened()):\n",
    "                frameId = cap.get(1) #current frame number\n",
    "                ret, frame = cap.read()\n",
    "                if (ret != True):\n",
    "                    break\n",
    "                if (frameId % math.floor(frameRate) == 0):\n",
    "                    filename =\"frame%d.jpg\" % count;count+=1\n",
    "                    frame_grey=cv2.cvtColor(frame, cv2.COLOR_BGR2GRAY)\n",
    "                    cv2.imwrite(os.path.join(train_write_file,filename), frame_grey)\n",
    "            cap.release()\n",
    "    return print(\"All frames written in the: \"+folder_name+\" Folder\")\n",
    "    \n",
    "video_capturing_function(\"Train_Videos\")"
   ]
  },
  {
   "cell_type": "code",
   "execution_count": 3,
   "id": "ed92a2f1",
   "metadata": {},
   "outputs": [],
   "source": [
    "def data_load_frames(directory):\n",
    "    frames=[]\n",
    "    labels = []\n",
    "    dirs = os.listdir(directory)\n",
    "    for d in dirs :\n",
    "        sub_dirs = os.listdir(os.path.join(directory,d))\n",
    "        for sd in sub_dirs:\n",
    "            files = os.listdir(os.path.join(directory,d, sd))\n",
    "            for file in files :\n",
    "                vid_name=file\n",
    "                vid_dir_path=os.path.join(directory,d, sd) # to change\n",
    "                frames_to_select=[]\n",
    "                for l in np.arange(0,8):\n",
    "                    frames_to_select.append('frame%d.jpg' % l)\n",
    "                vid_data=[]\n",
    "                for frame in frames_to_select:\n",
    "                    try :\n",
    "                        image=Image.open(os.path.join(vid_dir_path,frame))\n",
    "                        image=image.resize((64, 64), Image.ANTIALIAS) \n",
    "                        datu=np.asarray(image)\n",
    "                        normu_dat=datu/255\n",
    "                        vid_data.append(normu_dat)\n",
    "                    except :\n",
    "                        vid_data.append(np.zeros_like(normu_dat)) # it is like padding as not all videos conatin 300 frames\n",
    "                vid_data=np.array(vid_data)\n",
    "                frames.append(vid_data)\n",
    "        labels.append([d]*len(frames))\n",
    "    return np.array(frames)"
   ]
  },
  {
   "cell_type": "code",
   "execution_count": 4,
   "id": "86cfea80",
   "metadata": {},
   "outputs": [],
   "source": [
    "directory = 'UCF50'\n",
    "frames = data_load_frames(directory)"
   ]
  }
 ],
 "metadata": {
  "kernelspec": {
   "display_name": "Python 3 (ipykernel)",
   "language": "python",
   "name": "python3"
  },
  "language_info": {
   "codemirror_mode": {
    "name": "ipython",
    "version": 3
   },
   "file_extension": ".py",
   "mimetype": "text/x-python",
   "name": "python",
   "nbconvert_exporter": "python",
   "pygments_lexer": "ipython3",
   "version": "3.8.8"
  }
 },
 "nbformat": 4,
 "nbformat_minor": 5
}
